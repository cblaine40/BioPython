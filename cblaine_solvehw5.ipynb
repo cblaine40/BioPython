{
  "nbformat": 4,
  "nbformat_minor": 0,
  "metadata": {
    "colab": {
      "name": "CS3824_hw_5.ipynb",
      "provenance": [],
      "collapsed_sections": []
    },
    "kernelspec": {
      "display_name": "Python 3",
      "language": "python",
      "name": "python3"
    },
    "language_info": {
      "codemirror_mode": {
        "name": "ipython",
        "version": 3
      },
      "file_extension": ".py",
      "mimetype": "text/x-python",
      "name": "python",
      "nbconvert_exporter": "python",
      "pygments_lexer": "ipython3",
      "version": "3.6.8"
    }
  },
  "cells": [
    {
      "cell_type": "markdown",
      "metadata": {
        "id": "Zm38V0DUGfzf"
      },
      "source": [
        "# **CS 3824**\n",
        "##  **Homework Assignment 5**\n",
        "### Due date: November 12th, 2021\n",
        "\n",
        "Name: <*Camille Blaine*>\n",
        "\n",
        "PID: <*cblaine*>\n",
        "\n",
        "\n"
      ]
    },
    {
      "cell_type": "markdown",
      "metadata": {
        "id": "Nwe7KI4QLSNi"
      },
      "source": [
        "##**General directions**:\n",
        " The point value of each problem is shown in [ ]. Each solution must\n",
        "include all details and an explanation of why the given solution is correct. In particular, write complete sentences. A correct answer without an explanation is worth no credit. The completed assignment must be turned in as a ipynb file through Canvas by 5:00 PM on November 12th, 2021. No late homework will be accepted. \n",
        "\n",
        "##**Instructions**:\n",
        "* Download the file and rename it into <*Your VT PID*>_solvehw5.ipbyn\n",
        "\n",
        "* I recommend using Google Colab, but it is not required. \n",
        "\n",
        "* If you need new libraries to be installed, use import libararies cell below using\n",
        "\n",
        "        !{sys.executable} -m pip install [package_name]\n",
        "\n",
        "* Provide your codes and solutions at *#write your solution here*\n",
        "\n",
        "* Use \"Runtime -> Run all\" button to run the entire note and use \"Run cell\" button top left of the cell to run individual cells. Don't forget run the \"Import libraries\" as when running individual cell. \n",
        "\n",
        "* *Import Libaries* will automatically download the input protein.fasta file and blast_db from github. \n",
        "\n",
        "* Submit your ipbyn file to convas by 5pm on November 12th, 2021. \n",
        "\n",
        "* Your ipbyn file will be graded based on what your notebook produces on \"Runtime -> Run all\". Note that the files are temporary and must be generated through cells. \n",
        "\n",
        "##**Objectives**\n",
        " This homework is designed for you to get familiarized with Biopython. Biopython is a large open-source application programming interface (API) used in both bioinformatics software development and in everyday scripts for common bioinformatics tasks (Cock et al. 2009, https://biopython.org/). You can reference the Biopython tutorial on the website (http://biopython.org/DIST/docs/tutorial/Tutorial.html)"
      ]
    },
    {
      "cell_type": "markdown",
      "metadata": {
        "id": "sZ3-6vM9WWOv"
      },
      "source": [
        "##**Import Libraries**\n"
      ]
    },
    {
      "cell_type": "code",
      "metadata": {
        "id": "NhmQ7-1nH1KU",
        "colab": {
          "base_uri": "https://localhost:8080/"
        },
        "outputId": "51dbd9d1-592f-41ad-a633-f78fd3952886"
      },
      "source": [
        "import numpy as np\n",
        "import sys\n",
        "\n",
        "!{sys.executable} -m pip install Bio\n",
        "import Bio\n",
        "from Bio.Blast.Applications import NcbiblastpCommandline\n",
        "from Bio.Align.Applications import MuscleCommandline\n",
        "from Bio import Phylo\n",
        "from Bio.Phylo import TreeConstruction\n",
        "from Bio import AlignIO\n",
        "from Bio import SeqIO\n",
        "\n",
        "from io import StringIO\n",
        "\n",
        "# Retrieve input data\n",
        "!git clone https://github.com/YoonjinTKim/CS3824HW5.git\n",
        "!unzip /content/CS3824HW5/blastp.zip\n",
        "!cp /content/CS3824HW5/muscle /bin\n",
        "!cp /content/blastp /bin\n",
        "!chmod 755 -R /bin/muscle\n",
        "!chmod 755 -R /bin/blastp\n"
      ],
      "execution_count": 1,
      "outputs": [
        {
          "output_type": "stream",
          "name": "stdout",
          "text": [
            "Collecting Bio\n",
            "  Downloading bio-1.3.2-py3-none-any.whl (272 kB)\n",
            "\u001b[?25l\r\u001b[K     |█▏                              | 10 kB 13.4 MB/s eta 0:00:01\r\u001b[K     |██▍                             | 20 kB 14.9 MB/s eta 0:00:01\r\u001b[K     |███▋                            | 30 kB 6.0 MB/s eta 0:00:01\r\u001b[K     |████▉                           | 40 kB 7.4 MB/s eta 0:00:01\r\u001b[K     |██████                          | 51 kB 5.4 MB/s eta 0:00:01\r\u001b[K     |███████▎                        | 61 kB 5.6 MB/s eta 0:00:01\r\u001b[K     |████████▍                       | 71 kB 5.6 MB/s eta 0:00:01\r\u001b[K     |█████████▋                      | 81 kB 6.2 MB/s eta 0:00:01\r\u001b[K     |██████████▉                     | 92 kB 4.8 MB/s eta 0:00:01\r\u001b[K     |████████████                    | 102 kB 5.2 MB/s eta 0:00:01\r\u001b[K     |█████████████▎                  | 112 kB 5.2 MB/s eta 0:00:01\r\u001b[K     |██████████████▌                 | 122 kB 5.2 MB/s eta 0:00:01\r\u001b[K     |███████████████▋                | 133 kB 5.2 MB/s eta 0:00:01\r\u001b[K     |████████████████▉               | 143 kB 5.2 MB/s eta 0:00:01\r\u001b[K     |██████████████████              | 153 kB 5.2 MB/s eta 0:00:01\r\u001b[K     |███████████████████▎            | 163 kB 5.2 MB/s eta 0:00:01\r\u001b[K     |████████████████████▌           | 174 kB 5.2 MB/s eta 0:00:01\r\u001b[K     |█████████████████████▊          | 184 kB 5.2 MB/s eta 0:00:01\r\u001b[K     |██████████████████████▉         | 194 kB 5.2 MB/s eta 0:00:01\r\u001b[K     |████████████████████████        | 204 kB 5.2 MB/s eta 0:00:01\r\u001b[K     |█████████████████████████▎      | 215 kB 5.2 MB/s eta 0:00:01\r\u001b[K     |██████████████████████████▌     | 225 kB 5.2 MB/s eta 0:00:01\r\u001b[K     |███████████████████████████▊    | 235 kB 5.2 MB/s eta 0:00:01\r\u001b[K     |█████████████████████████████   | 245 kB 5.2 MB/s eta 0:00:01\r\u001b[K     |██████████████████████████████▏ | 256 kB 5.2 MB/s eta 0:00:01\r\u001b[K     |███████████████████████████████▎| 266 kB 5.2 MB/s eta 0:00:01\r\u001b[K     |████████████████████████████████| 272 kB 5.2 MB/s \n",
            "\u001b[?25hRequirement already satisfied: tqdm in /usr/local/lib/python3.7/dist-packages (from Bio) (4.62.3)\n",
            "Requirement already satisfied: requests in /usr/local/lib/python3.7/dist-packages (from Bio) (2.23.0)\n",
            "Collecting mygene\n",
            "  Downloading mygene-3.2.2-py2.py3-none-any.whl (5.4 kB)\n",
            "Collecting biopython>=1.79\n",
            "  Downloading biopython-1.79-cp37-cp37m-manylinux_2_5_x86_64.manylinux1_x86_64.whl (2.3 MB)\n",
            "\u001b[K     |████████████████████████████████| 2.3 MB 27.6 MB/s \n",
            "\u001b[?25hRequirement already satisfied: numpy in /usr/local/lib/python3.7/dist-packages (from biopython>=1.79->Bio) (1.19.5)\n",
            "Collecting biothings-client>=0.2.6\n",
            "  Downloading biothings_client-0.2.6-py2.py3-none-any.whl (37 kB)\n",
            "Requirement already satisfied: chardet<4,>=3.0.2 in /usr/local/lib/python3.7/dist-packages (from requests->Bio) (3.0.4)\n",
            "Requirement already satisfied: idna<3,>=2.5 in /usr/local/lib/python3.7/dist-packages (from requests->Bio) (2.10)\n",
            "Requirement already satisfied: certifi>=2017.4.17 in /usr/local/lib/python3.7/dist-packages (from requests->Bio) (2021.10.8)\n",
            "Requirement already satisfied: urllib3!=1.25.0,!=1.25.1,<1.26,>=1.21.1 in /usr/local/lib/python3.7/dist-packages (from requests->Bio) (1.24.3)\n",
            "Installing collected packages: biothings-client, mygene, biopython, Bio\n",
            "Successfully installed Bio-1.3.2 biopython-1.79 biothings-client-0.2.6 mygene-3.2.2\n",
            "Cloning into 'CS3824HW5'...\n",
            "remote: Enumerating objects: 12, done.\u001b[K\n",
            "remote: Counting objects: 100% (12/12), done.\u001b[K\n",
            "remote: Compressing objects: 100% (12/12), done.\u001b[K\n",
            "remote: Total 12 (delta 2), reused 0 (delta 0), pack-reused 0\u001b[K\n",
            "Unpacking objects: 100% (12/12), done.\n",
            "Archive:  /content/CS3824HW5/blastp.zip\n",
            "  inflating: blastp                  \n"
          ]
        }
      ]
    },
    {
      "cell_type": "markdown",
      "metadata": {
        "id": "lt96FRfIHpxw"
      },
      "source": [
        "##**[10] 1. Protein retrieval**\n",
        "\n",
        "Write the function that retrieves the sequences from the fasta file and return the list of fasta SeqRecord objects using SeqIO from Biopython."
      ]
    },
    {
      "cell_type": "code",
      "metadata": {
        "colab": {
          "base_uri": "https://localhost:8080/"
        },
        "id": "YivSdyG5Gg1p",
        "outputId": "78cdd601-04be-4ba8-f9ea-1b045fa066d1"
      },
      "source": [
        "def protein_sequences(fasta_file):\n",
        "\n",
        "    sequence_file_name = fasta_file\n",
        "    sequence_list = []\n",
        "\n",
        "    #---------------------------------------------------------------------------\n",
        "    #write your solution here\n",
        "    \n",
        "    for seq_rec in SeqIO.parse(sequence_file_name , \"fasta\"):\n",
        "      sequence_list.append(repr(seq_rec.seq))\n",
        "\n",
        "\n",
        "\n",
        "   \n",
        "\n",
        "    #---------------------------------------------------------------------------\n",
        "    return sequence_list\n",
        "\n",
        "print(protein_sequences(\"/content/CS3824HW5/proteins.fasta\"))"
      ],
      "execution_count": null,
      "outputs": [
        {
          "output_type": "stream",
          "name": "stdout",
          "text": [
            "[\"Seq('MRLHHLLLVLFFVVLSAGSGFTQGVRNRLSCHRNKGVCVPSRCPRHMRQIGTCR...RKK')\", \"Seq('MRLHHLLLVLFFLVLSAGSGFTQGIRSRRSCHRNKGVCALTRCPRNMRQIGTCF...RKK')\", \"Seq('MRTSYLLLFTLCLLLSEMASGGNFLTGLGHRSDHYNCVSSGGQCLYSACPIFTK...CCK')\", \"Seq('MRTSYLLLFTLCLLLSEMASGGNFLTGLGHRSDHYNCVSSGGQCLYSACPIFTK...CCK')\", \"Seq('MRTSYLLLFTLCLLLSEIASGGNFLTGLGHRSDHYNCVSSGGQCLYSACPIFTK...CCK')\", \"Seq('MRTSYLLLFTLCLLLSEMASGDNFLTGLGHRSDHYNCVRSGGQCLYSACPIYTR...CCK')\", \"Seq('MRILHFLLAFLIVFLLPVPGFTAGIETSFSCSQNGGFCISPKCLPGSKQIGTCI...RKK')\", \"Seq('MRIHYLLFAVLFLFLMPVPGEGGIINTIQRYFCRVRGGRCAALTCLPRETQIGR...TRK')\", \"Seq('MKTHYFLLVMICFLFSQMEPGVGILTSLGRRTDQYKCLQHGGFCLRSSCPSNTK...CKS')\", \"Seq('MKTHYFLLVMLFFLFSQMELGAGILTSLGRRTDQYRCLQNGGFCLRSSCPSHTK...CRS')\", \"Seq('MRLHRLLLVFLLMVLLPVPGLLKNIGNSVSCLRNKGVCMPGKCAPKMKQIGTCG...KRK')\", \"Seq('MRLHHLLLALLFVVLSAASGFTQGVKTPQSCHRNKGVCVPIRCPRSMRQIGTCL...RRK')\"]\n"
          ]
        }
      ]
    },
    {
      "cell_type": "markdown",
      "metadata": {
        "id": "GhPNHxdksHhW"
      },
      "source": [
        "## **[10] 2. BLAST**\n",
        " Finish the given function that runs BLAST by creating a blastp command line using NcbiblastpCommandline from Bio.Blast.Applications and print out the results of the BLAST with format 1. Name the organisms of the best matched proteins for each sequence at the text cell. Use the given {}.blastdb as a database.  "
      ]
    },
    {
      "cell_type": "code",
      "metadata": {
        "colab": {
          "base_uri": "https://localhost:8080/"
        },
        "id": "jWxxgywaserT",
        "outputId": "64559361-a2fb-4c95-9dee-3ba9065b08af"
      },
      "source": [
        "def BLAST(sequence_data, blast_db_name, output_name, evalue_threshold, format):\n",
        "\n",
        "    # Create command line blast_line for BLASTP\n",
        "    #---------------------------------------------------------------------------\n",
        "    #write your solution here\n",
        "    blast_line = NcbiblastpCommandline(query=sequence_data, db=blast_db_name, evalue=evalue_threshold,\n",
        "                                        outfmt=format, out= output_name)\n",
        "\n",
        "    #---------------------------------------------------------------------------\n",
        "\n",
        "    # Run blast_line \n",
        "    stdout, stderr = blast_line()\n",
        "\n",
        "    print(stdout)\n",
        "\n",
        "    return\n",
        "\n",
        "\n",
        "BLAST(\"/content/CS3824HW5/proteins.fasta\", \"/content/CS3824HW5/blast_db\", \"/content/blast_output\", evalue_threshold =0.001, format=1)\n"
      ],
      "execution_count": null,
      "outputs": [
        {
          "output_type": "stream",
          "name": "stdout",
          "text": [
            "\n"
          ]
        }
      ]
    },
    {
      "cell_type": "markdown",
      "metadata": {
        "id": "0NusgrtktFuF"
      },
      "source": [
        "    p1 is Ovis aries = sheep\n",
        "    p2 is Capra hircus\n",
        "    p3 is Homo sapiens\n",
        "    p4 is Pan troglodytes\n",
        "    p5 Gorilla gorilla\n",
        "    p6 is Macaca fascicularis\n",
        "    p7 is Equus caballus\n",
        "    p8 is Chinchilla lanigera\n",
        "    p9 is Mus musculus\n",
        "    p10 is Rattus norvegicus\n",
        "    p11 is Sus scrofa\n",
        "    p12 is Rangifer tarandus\n",
        "\n"
      ]
    },
    {
      "cell_type": "markdown",
      "metadata": {
        "id": "NpFwaou1tw4B"
      },
      "source": [
        "##**[10] 3. MUSCLE**\n",
        "\n",
        "Finish the given function that creates command that runs MUSCLE for given protein list using MuscleCommandline from Bio.Align.Applications and storethe results in the output file as clw=True format. Print out the results in the console. "
      ]
    },
    {
      "cell_type": "code",
      "metadata": {
        "id": "e7Yi5lsHvO5I",
        "colab": {
          "base_uri": "https://localhost:8080/"
        },
        "outputId": "141309e1-c788-4838-b871-7a7451ae1240"
      },
      "source": [
        "def MUSCLE(input_file, output_file):\n",
        "    muscle_exe = \"/bin/muscle\"\n",
        "  \n",
        "    # Run MUSCLE \n",
        "    # Create command line muscle_line for MUSCLE\n",
        "    #---------------------------------------------------------------------------\n",
        "    #write your solution here\n",
        "    muscle_line = MuscleCommandline(input=input_file, out=output_file, clw=True)\n",
        "    #---------------------------------------------------------------------------\n",
        "    # Run muscle_line \n",
        "    stdout, stderr = muscle_line()\n",
        "\n",
        "    with open(output_file) as file:\n",
        "        print(file.read())\n",
        "    return\n",
        "\n",
        "MUSCLE(\"/content/CS3824HW5/proteins.fasta\", \"/content/muscle_output.aln\")\n"
      ],
      "execution_count": null,
      "outputs": [
        {
          "output_type": "stream",
          "name": "stdout",
          "text": [
            "MUSCLE (3.8) multiple sequence alignment\n",
            "\n",
            "\n",
            "P6              MRTSYLLLFTLCLLLSEMASGDNFLTGLGHRSDHYNCVRSGGQCLYSACPIYTRIQGTCY\n",
            "P5              MRTSYLLLFTLCLLLSEIASGGNFLTGLGHRSDHYNCVSSGGQCLYSACPIFTKIQGTCY\n",
            "P3              MRTSYLLLFTLCLLLSEMASGGNFLTGLGHRSDHYNCVSSGGQCLYSACPIFTKIQGTCY\n",
            "P4              MRTSYLLLFTLCLLLSEMASGGNFLTGLGHRSDHYNCVSSGGQCLYSACPIFTKIQGTCY\n",
            "P9              MKTHYFLLVMICFLFSQMEPGVGILTSLGRRTDQYKCLQHGGFCLRSSCPSNTKLQGTCK\n",
            "P10             MKTHYFLLVMLFFLFSQMELGAGILTSLGRRTDQYRCLQNGGFCLRSSCPSHTKLQGTCK\n",
            "P8              MRIHYLLFAVLFLFLM---PVPGEGGIINT-IQRYFCRVRGGRCAALTCLPRETQIGRCS\n",
            "P7              MRILHFLLAFLIVFLL---PVPGFTAGIET---SFSCSQNGGFCISPKCLPGSKQIGTCI\n",
            "P11             MRLHRLLLVFLLMVLL---PVPGLLKNIGN---SVSCLRNKGVCMPGKCAPKMKQIGTCG\n",
            "P12             MRLHHLLLALLFVVLS---AASGFTQGVKT---PQSCHRNKGVCVPIRCPRSMRQIGTCL\n",
            "P1              MRLHHLLLVLFFVVLS---AGSGFTQGVRN---RLSCHRNKGVCVPSRCPRHMRQIGTCR\n",
            "P2              MRLHHLLLVLFFLVLS---AGSGFTQGIRS---RRSCHRNKGVCALTRCPRNMRQIGTCF\n",
            "                *.   :*:  : ..:       .    :        *    * *    *       * * \n",
            "\n",
            "P6              HGKAKCCK---\n",
            "P5              GGKAKCCK---\n",
            "P3              RGKAKCCK---\n",
            "P4              GGKAKCCK---\n",
            "P9              PDKPNCCKS--\n",
            "P10             PDKPNCCRS--\n",
            "P8              VKGRKCCRTRK\n",
            "P7              LPGSKCCRKK-\n",
            "P11             MPQVKCCKRK-\n",
            "P12             GAPVKCCRRK-\n",
            "P1              GPPVKCCRKK-\n",
            "P2              GPPVKCCRKK-\n",
            "                    :**.   \n",
            "\n"
          ]
        }
      ]
    },
    {
      "cell_type": "markdown",
      "metadata": {
        "id": "HEM8cKwOw7dz"
      },
      "source": [
        "##**[40] 4. Tree**\n",
        "\n",
        "Based on results from *problem 3 muscle_output.aln*, create the distance phylogenetic tree and distance matrix using Bio.Phylo and AlignIO. (1) Print out the distance matrix of alignemnt, (2) save phylogenetic tree in xml (phyloxml)and cluster alignment in phy (phylip) as output files, and (3) display tree using Phylo.draw function."
      ]
    },
    {
      "cell_type": "code",
      "metadata": {
        "id": "2oOHilLsxOp0",
        "colab": {
          "base_uri": "https://localhost:8080/",
          "height": 520
        },
        "outputId": "db52b536-f89c-4dda-8441-0b8ab58d9c84"
      },
      "source": [
        "def TREE(muscle_output, phy_output_file, xml_output_file):\n",
        "\n",
        "    # Create identity matrix from MUSCLE \n",
        "    #---------------------------------------------------------------------------\n",
        "    #write your code here\n",
        "    # TODO print out the distance matrix from MUSCLE \n",
        "    # TODO write alignment from MUSCLE into phy output file in phylip format\n",
        "    with open(muscle_output, \"r\") as alignfile :\n",
        "      align= AlignIO.read(alignfile, \"clustal\")\n",
        "    #---------------------------------------------------------------------------\n",
        "    constructor = TreeConstruction.DistanceTreeConstructor()\n",
        "    calculator = TreeConstruction.DistanceCalculator('identity')\n",
        "    matrix = calculator.get_distance(align)\n",
        "    print(matrix)\n",
        "    \n",
        "\n",
        "\n",
        "    # Create and draw phylogenetic tree\n",
        "    #---------------------------------------------------------------------------\n",
        "    upTree = constructor.upgma(matrix)\n",
        "    \n",
        "    AlignIO.write(align, phy_output_file, \"phylip\")\n",
        "    Phylo.write(upTree, xml_output_file, \"phyloxml\")\n",
        "    # TODO construct phylogenetic tree and display \n",
        "    Phylo.draw(upTree)\n",
        "    \n",
        "    #---------------------------------------------------------------------------\n",
        "    \n",
        "    return \n",
        "   \n",
        "TREE(\"muscle_output.aln\", \"/content/alignment.phy\", \"/content/tree.xml\")\n"
      ],
      "execution_count": null,
      "outputs": [
        {
          "output_type": "stream",
          "name": "stdout",
          "text": [
            "P6\t0\n",
            "P5\t0.08450704225352113\t0\n",
            "P3\t0.07042253521126762\t0.028169014084507005\t0\n",
            "P4\t0.07042253521126762\t0.014084507042253502\t0.014084507042253502\t0\n",
            "P9\t0.49295774647887325\t0.49295774647887325\t0.47887323943661975\t0.47887323943661975\t0\n",
            "P10\t0.5070422535211268\t0.5070422535211268\t0.49295774647887325\t0.49295774647887325\t0.11267605633802813\t0\n",
            "P8\t0.7323943661971831\t0.7323943661971831\t0.7323943661971831\t0.7323943661971831\t0.7746478873239436\t0.7464788732394366\t0\n",
            "P7\t0.7183098591549295\t0.704225352112676\t0.704225352112676\t0.704225352112676\t0.7183098591549295\t0.6901408450704225\t0.5211267605633803\t0\n",
            "P11\t0.6901408450704225\t0.6901408450704225\t0.6901408450704225\t0.6901408450704225\t0.6901408450704225\t0.6901408450704225\t0.6056338028169015\t0.43661971830985913\t0\n",
            "P12\t0.6619718309859155\t0.676056338028169\t0.6901408450704225\t0.676056338028169\t0.7605633802816901\t0.704225352112676\t0.619718309859155\t0.47887323943661975\t0.43661971830985913\t0\n",
            "P1\t0.647887323943662\t0.6619718309859155\t0.676056338028169\t0.6619718309859155\t0.7183098591549295\t0.6619718309859155\t0.647887323943662\t0.49295774647887325\t0.4225352112676056\t0.16901408450704225\t0\n",
            "P2\t0.647887323943662\t0.6619718309859155\t0.676056338028169\t0.6619718309859155\t0.7183098591549295\t0.6901408450704225\t0.6056338028169015\t0.49295774647887325\t0.43661971830985913\t0.22535211267605637\t0.12676056338028174\t0\n",
            "\tP6\tP5\tP3\tP4\tP9\tP10\tP8\tP7\tP11\tP12\tP1\tP2\n"
          ]
        },
        {
          "output_type": "display_data",
          "data": {
            "image/png": "[encoded data removed]",
            "text/plain": [
              "<Figure size 432x288 with 1 Axes>"
            ]
          },
          "metadata": {
            "needs_background": "light"
          }
        }
      ]
    },
    {
      "cell_type": "markdown",
      "metadata": {
        "id": "af8et3RByjQE"
      },
      "source": [
        "##**[10] 5. Taxonomy**\n",
        "\n",
        "Based on matrix from *Problem 4*, name the best identity match for each protein sequence based on the matrix in the text cell above.\n"
      ]
    },
    {
      "cell_type": "markdown",
      "metadata": {
        "id": "8VR5w0OXi9Yw"
      },
      "source": [
        "    p6 has the best identity matches with p3 and p4.\n",
        "    p5 has the best identity match with p4.\n",
        "    p3 has the best identity match with p4.\n",
        "    p4 has the best identity match with p5 and p3.\n",
        "    p9 has the best identity match with p10.\n",
        "    p10 has the best identity match with p9.\n",
        "    p8 has the best identity match with p7.\n",
        "    p7 has the best identity match with p11.\n",
        "    p11 has the best identity match with p1.\n",
        "    p12 has the best identiy match with p1.\n",
        "    p1 has the best identity match with p2.\n",
        "    p2 has the best identity match with p1.\n",
        "    \n",
        "\n",
        "\n",
        "\n",
        "\n",
        "\n"
      ]
    }
  ]
}